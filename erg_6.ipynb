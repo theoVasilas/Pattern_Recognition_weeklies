{
  "nbformat": 4,
  "nbformat_minor": 0,
  "metadata": {
    "colab": {
      "provenance": [],
      "mount_file_id": "1_4dXHTm9MGEsEqrEINU_9JzPG72OqoHJ",
      "authorship_tag": "ABX9TyPp1j/sWwc+tH29n+f7GEJa",
      "include_colab_link": true
    },
    "kernelspec": {
      "name": "python3",
      "display_name": "Python 3"
    },
    "language_info": {
      "name": "python"
    }
  },
  "cells": [
    {
      "cell_type": "markdown",
      "metadata": {
        "id": "view-in-github",
        "colab_type": "text"
      },
      "source": [
        "<a href=\"https://colab.research.google.com/github/theoVasilas/Pattern_Recognition_weeklies/blob/main/erg_6.ipynb\" target=\"_parent\"><img src=\"https://colab.research.google.com/assets/colab-badge.svg\" alt=\"Open In Colab\"/></a>"
      ]
    },
    {
      "cell_type": "code",
      "source": [
        "from sklearn import datasets\n",
        "import pandas as pd\n",
        "import numpy as np\n",
        "\n",
        "iris = datasets.load_iris() #Importing data set \n",
        "iris.keys()\n",
        "\n",
        "iris = pd.DataFrame(\n",
        "    data= np.c_[iris['data'], iris['target']],\n",
        "    columns= iris['feature_names'] + ['target']\n",
        "    )\n",
        "\n",
        "species = []\n",
        "\n",
        "for i in range(len(iris['target'])):\n",
        "    if iris['target'][i] == 0:\n",
        "        species.append(\"setosa\")\n",
        "    elif iris['target'][i] == 1:\n",
        "        species.append('versicolor')\n",
        "    else:\n",
        "        species.append('virginica')\n",
        "\n",
        "\n",
        "iris['species'] = species"
      ],
      "metadata": {
        "id": "e27_exyDvby_"
      },
      "execution_count": 442,
      "outputs": []
    },
    {
      "cell_type": "code",
      "source": [
        "import matplotlib.pyplot as plt\n",
        "\n",
        "setosa = iris[iris.species == \"setosa\"]\n",
        "versicolor = iris[iris.species=='versicolor']\n",
        "virginica = iris[iris.species=='virginica']\n",
        "\n",
        "fig, ax = plt.subplots()\n",
        "fig.set_size_inches(13, 7) # adjusting the length and width of plot\n",
        "\n",
        "# lables and scatter points\n",
        "ax.scatter(setosa['petal length (cm)'], setosa['petal width (cm)'], label=\"Setosa\", facecolor=\"blue\")\n",
        "ax.scatter(versicolor['petal length (cm)'], versicolor['petal width (cm)'], label=\"Versicolor\", facecolor=\"yellow\")\n",
        "ax.scatter(virginica['petal length (cm)'], virginica['petal width (cm)'], label=\"Virginica\", facecolor=\"red\")\n",
        "\n",
        "\n",
        "ax.set_xlabel(\"petal length (cm)\")\n",
        "ax.set_ylabel(\"petal width (cm)\")\n",
        "ax.grid()\n",
        "ax.set_title(\"Iris petals\")\n",
        "ax.legend()\n",
        "\n",
        "iris.describe()"
      ],
      "metadata": {
        "id": "nPuq7eKmVRAW",
        "colab": {
          "base_uri": "https://localhost:8080/",
          "height": 741
        },
        "outputId": "c109cac1-8954-4b4c-c414-3db28b79d7f6"
      },
      "execution_count": 443,
      "outputs": [
        {
          "output_type": "execute_result",
          "data": {
            "text/plain": [
              "       sepal length (cm)  sepal width (cm)  petal length (cm)  \\\n",
              "count         150.000000        150.000000         150.000000   \n",
              "mean            5.843333          3.057333           3.758000   \n",
              "std             0.828066          0.435866           1.765298   \n",
              "min             4.300000          2.000000           1.000000   \n",
              "25%             5.100000          2.800000           1.600000   \n",
              "50%             5.800000          3.000000           4.350000   \n",
              "75%             6.400000          3.300000           5.100000   \n",
              "max             7.900000          4.400000           6.900000   \n",
              "\n",
              "       petal width (cm)      target  \n",
              "count        150.000000  150.000000  \n",
              "mean           1.199333    1.000000  \n",
              "std            0.762238    0.819232  \n",
              "min            0.100000    0.000000  \n",
              "25%            0.300000    0.000000  \n",
              "50%            1.300000    1.000000  \n",
              "75%            1.800000    2.000000  \n",
              "max            2.500000    2.000000  "
            ],
            "text/html": [
              "\n",
              "  <div id=\"df-4cf56e80-dc05-41f7-b476-fdaf15a46f50\">\n",
              "    <div class=\"colab-df-container\">\n",
              "      <div>\n",
              "<style scoped>\n",
              "    .dataframe tbody tr th:only-of-type {\n",
              "        vertical-align: middle;\n",
              "    }\n",
              "\n",
              "    .dataframe tbody tr th {\n",
              "        vertical-align: top;\n",
              "    }\n",
              "\n",
              "    .dataframe thead th {\n",
              "        text-align: right;\n",
              "    }\n",
              "</style>\n",
              "<table border=\"1\" class=\"dataframe\">\n",
              "  <thead>\n",
              "    <tr style=\"text-align: right;\">\n",
              "      <th></th>\n",
              "      <th>sepal length (cm)</th>\n",
              "      <th>sepal width (cm)</th>\n",
              "      <th>petal length (cm)</th>\n",
              "      <th>petal width (cm)</th>\n",
              "      <th>target</th>\n",
              "    </tr>\n",
              "  </thead>\n",
              "  <tbody>\n",
              "    <tr>\n",
              "      <th>count</th>\n",
              "      <td>150.000000</td>\n",
              "      <td>150.000000</td>\n",
              "      <td>150.000000</td>\n",
              "      <td>150.000000</td>\n",
              "      <td>150.000000</td>\n",
              "    </tr>\n",
              "    <tr>\n",
              "      <th>mean</th>\n",
              "      <td>5.843333</td>\n",
              "      <td>3.057333</td>\n",
              "      <td>3.758000</td>\n",
              "      <td>1.199333</td>\n",
              "      <td>1.000000</td>\n",
              "    </tr>\n",
              "    <tr>\n",
              "      <th>std</th>\n",
              "      <td>0.828066</td>\n",
              "      <td>0.435866</td>\n",
              "      <td>1.765298</td>\n",
              "      <td>0.762238</td>\n",
              "      <td>0.819232</td>\n",
              "    </tr>\n",
              "    <tr>\n",
              "      <th>min</th>\n",
              "      <td>4.300000</td>\n",
              "      <td>2.000000</td>\n",
              "      <td>1.000000</td>\n",
              "      <td>0.100000</td>\n",
              "      <td>0.000000</td>\n",
              "    </tr>\n",
              "    <tr>\n",
              "      <th>25%</th>\n",
              "      <td>5.100000</td>\n",
              "      <td>2.800000</td>\n",
              "      <td>1.600000</td>\n",
              "      <td>0.300000</td>\n",
              "      <td>0.000000</td>\n",
              "    </tr>\n",
              "    <tr>\n",
              "      <th>50%</th>\n",
              "      <td>5.800000</td>\n",
              "      <td>3.000000</td>\n",
              "      <td>4.350000</td>\n",
              "      <td>1.300000</td>\n",
              "      <td>1.000000</td>\n",
              "    </tr>\n",
              "    <tr>\n",
              "      <th>75%</th>\n",
              "      <td>6.400000</td>\n",
              "      <td>3.300000</td>\n",
              "      <td>5.100000</td>\n",
              "      <td>1.800000</td>\n",
              "      <td>2.000000</td>\n",
              "    </tr>\n",
              "    <tr>\n",
              "      <th>max</th>\n",
              "      <td>7.900000</td>\n",
              "      <td>4.400000</td>\n",
              "      <td>6.900000</td>\n",
              "      <td>2.500000</td>\n",
              "      <td>2.000000</td>\n",
              "    </tr>\n",
              "  </tbody>\n",
              "</table>\n",
              "</div>\n",
              "      <button class=\"colab-df-convert\" onclick=\"convertToInteractive('df-4cf56e80-dc05-41f7-b476-fdaf15a46f50')\"\n",
              "              title=\"Convert this dataframe to an interactive table.\"\n",
              "              style=\"display:none;\">\n",
              "        \n",
              "  <svg xmlns=\"http://www.w3.org/2000/svg\" height=\"24px\"viewBox=\"0 0 24 24\"\n",
              "       width=\"24px\">\n",
              "    <path d=\"M0 0h24v24H0V0z\" fill=\"none\"/>\n",
              "    <path d=\"M18.56 5.44l.94 2.06.94-2.06 2.06-.94-2.06-.94-.94-2.06-.94 2.06-2.06.94zm-11 1L8.5 8.5l.94-2.06 2.06-.94-2.06-.94L8.5 2.5l-.94 2.06-2.06.94zm10 10l.94 2.06.94-2.06 2.06-.94-2.06-.94-.94-2.06-.94 2.06-2.06.94z\"/><path d=\"M17.41 7.96l-1.37-1.37c-.4-.4-.92-.59-1.43-.59-.52 0-1.04.2-1.43.59L10.3 9.45l-7.72 7.72c-.78.78-.78 2.05 0 2.83L4 21.41c.39.39.9.59 1.41.59.51 0 1.02-.2 1.41-.59l7.78-7.78 2.81-2.81c.8-.78.8-2.07 0-2.86zM5.41 20L4 18.59l7.72-7.72 1.47 1.35L5.41 20z\"/>\n",
              "  </svg>\n",
              "      </button>\n",
              "      \n",
              "  <style>\n",
              "    .colab-df-container {\n",
              "      display:flex;\n",
              "      flex-wrap:wrap;\n",
              "      gap: 12px;\n",
              "    }\n",
              "\n",
              "    .colab-df-convert {\n",
              "      background-color: #E8F0FE;\n",
              "      border: none;\n",
              "      border-radius: 50%;\n",
              "      cursor: pointer;\n",
              "      display: none;\n",
              "      fill: #1967D2;\n",
              "      height: 32px;\n",
              "      padding: 0 0 0 0;\n",
              "      width: 32px;\n",
              "    }\n",
              "\n",
              "    .colab-df-convert:hover {\n",
              "      background-color: #E2EBFA;\n",
              "      box-shadow: 0px 1px 2px rgba(60, 64, 67, 0.3), 0px 1px 3px 1px rgba(60, 64, 67, 0.15);\n",
              "      fill: #174EA6;\n",
              "    }\n",
              "\n",
              "    [theme=dark] .colab-df-convert {\n",
              "      background-color: #3B4455;\n",
              "      fill: #D2E3FC;\n",
              "    }\n",
              "\n",
              "    [theme=dark] .colab-df-convert:hover {\n",
              "      background-color: #434B5C;\n",
              "      box-shadow: 0px 1px 3px 1px rgba(0, 0, 0, 0.15);\n",
              "      filter: drop-shadow(0px 1px 2px rgba(0, 0, 0, 0.3));\n",
              "      fill: #FFFFFF;\n",
              "    }\n",
              "  </style>\n",
              "\n",
              "      <script>\n",
              "        const buttonEl =\n",
              "          document.querySelector('#df-4cf56e80-dc05-41f7-b476-fdaf15a46f50 button.colab-df-convert');\n",
              "        buttonEl.style.display =\n",
              "          google.colab.kernel.accessAllowed ? 'block' : 'none';\n",
              "\n",
              "        async function convertToInteractive(key) {\n",
              "          const element = document.querySelector('#df-4cf56e80-dc05-41f7-b476-fdaf15a46f50');\n",
              "          const dataTable =\n",
              "            await google.colab.kernel.invokeFunction('convertToInteractive',\n",
              "                                                     [key], {});\n",
              "          if (!dataTable) return;\n",
              "\n",
              "          const docLinkHtml = 'Like what you see? Visit the ' +\n",
              "            '<a target=\"_blank\" href=https://colab.research.google.com/notebooks/data_table.ipynb>data table notebook</a>'\n",
              "            + ' to learn more about interactive tables.';\n",
              "          element.innerHTML = '';\n",
              "          dataTable['output_type'] = 'display_data';\n",
              "          await google.colab.output.renderOutput(dataTable, element);\n",
              "          const docLink = document.createElement('div');\n",
              "          docLink.innerHTML = docLinkHtml;\n",
              "          element.appendChild(docLink);\n",
              "        }\n",
              "      </script>\n",
              "    </div>\n",
              "  </div>\n",
              "  "
            ]
          },
          "metadata": {},
          "execution_count": 443
        },
        {
          "output_type": "display_data",
          "data": {
            "text/plain": [
              "<Figure size 936x504 with 1 Axes>"
            ],
            "image/png": "[encoded data removed]"
          },
          "metadata": {
            "needs_background": "light"
          }
        }
      ]
    },
    {
      "cell_type": "markdown",
      "source": [
        "remuving unuseful columns\n",
        "\n",
        "spliting to train data 80% and test data 20% with random selection\n",
        "\n",
        "scaling data with 0 mean remaning the standar diviation\n",
        "\n",
        "tranforming to tensorflow\n"
      ],
      "metadata": {
        "id": "ZOgnU1HDEEea"
      }
    },
    {
      "cell_type": "code",
      "source": [
        "from sklearn.model_selection import train_test_split\n",
        "import torch\n",
        "from sklearn.preprocessing import StandardScaler\n",
        "\n",
        "# Droping the target and species since we only need the measurements\n",
        "X = iris.drop(['target','species'], axis=1)\n",
        "\n",
        "# converting into numpy array and assigning petal length and petal width\n",
        "X = X.to_numpy()\n",
        "y = iris['target'].to_numpy()\n",
        "\n",
        "# Splitting into train and test\n",
        "X_train, X_test, y_train, y_test = train_test_split(X,y,test_size=0.2)\n",
        "\n",
        "scaler = StandardScaler()\n",
        "X_train = scaler.fit_transform(X_train)\n",
        "X_test = scaler.transform(X_test)\n",
        "\n",
        "X_train = torch.FloatTensor(X_train)\n",
        "X_test = torch.FloatTensor(X_test)\n",
        "y_train = torch.LongTensor(y_train)\n",
        "y_test = torch.LongTensor(y_test)\n",
        "\n",
        "print(\"Length of the test data : \", X_train.shape )\n",
        "print(\"Length of the validation data : \", X_test.shape)\n"
      ],
      "metadata": {
        "colab": {
          "base_uri": "https://localhost:8080/"
        },
        "id": "DskW4pXrFQhr",
        "outputId": "dbd5d398-f367-4c92-8307-88a678272c3d"
      },
      "execution_count": 444,
      "outputs": [
        {
          "output_type": "stream",
          "name": "stdout",
          "text": [
            "Length of the test data :  torch.Size([120, 4])\n",
            "Length of the validation data :  torch.Size([30, 4])\n"
          ]
        }
      ]
    },
    {
      "cell_type": "code",
      "source": [
        "import torch.nn as nn\n",
        "\n",
        "class NN_Sigmoid(nn.Module):\n",
        "    def __init__(self):\n",
        "        super(NN_Sigmoid, self).__init__()\n",
        "        #self.flatten = nn.Flatten()\n",
        "        self.linear_stack = nn.Sequential(\n",
        "            nn.Linear(4, 30),\n",
        "            nn.Sigmoid(),\n",
        "            nn.Linear(30,3),\n",
        "        )\n",
        "\n",
        "    def forward(self, x):\n",
        "        #x = self.flatten(x)\n",
        "        logits = self.linear_stack(x)\n",
        "        return logits\n",
        "\n",
        "class NN_ReLU(nn.Module):\n",
        "    def __init__(self):\n",
        "        super(NN_ReLU, self).__init__()\n",
        "        self.flatten = nn.Flatten()\n",
        "        self.linear_stack = nn.Sequential(\n",
        "            nn.Linear(4, 30),\n",
        "            nn.ReLU(),\n",
        "            nn.Linear(30,3),\n",
        "        )\n",
        "\n",
        "    def forward(self, x):\n",
        "        x = self.flatten(x)\n",
        "        logits = self.linear_stack(x)\n",
        "        return logits\n",
        "\n",
        "class My_NN_Relu(nn.Module):\n",
        "    def __init__(self):\n",
        "        super(My_NN_Relu, self).__init__()\n",
        "        #self.flatten = nn.Flatten()\n",
        "        self.linear_stack = nn.Sequential(\n",
        "            nn.Linear(4, 20),\n",
        "            nn.ReLU(),\n",
        "            nn.Linear(20,10),\n",
        "            nn.ReLU(),\n",
        "            nn.Linear(10,3),\n",
        "        )\n",
        "\n",
        "        # Define proportion or neurons to dropout\n",
        "        self.dropout = nn.Dropout(0.1)\n",
        "\n",
        "    def forward(self, x):\n",
        "        #x = self.flatten(x)\n",
        "        logits = self.linear_stack(x)\n",
        "        logits = self.dropout(logits)\n",
        "        return logits\n",
        "\n",
        "models = [ NN_Sigmoid() , NN_ReLU() , My_NN_Relu() ]\n",
        "torch.save(models, 'models.pth') "
      ],
      "metadata": {
        "id": "FGzq_JDM3Ee0"
      },
      "execution_count": 445,
      "outputs": []
    },
    {
      "cell_type": "markdown",
      "source": [
        "Create a trainuing loop "
      ],
      "metadata": {
        "id": "gJmrfC0atd3b"
      }
    },
    {
      "cell_type": "code",
      "source": [
        "def train_loop(model,optimizer,path_weigths,criterion,schedule,X_train,y_train,X_test,y_test,num_epochs,train_losses,test_losses):\n",
        "    loss_train_old = 100\n",
        "    for epoch in range(num_epochs):\n",
        "        #clear out the gradients from the last step loss.backward()\n",
        "        optimizer.zero_grad()\n",
        "\n",
        "        # Compute prediction and loss\n",
        "        #forward feed\n",
        "        output_train = model(X_train)\n",
        "        #calculate the loss\n",
        "        loss_train = loss_fn(output_train, y_train)\n",
        "\n",
        "        #backward propagation: calculate gradients\n",
        "        loss_train.backward()\n",
        "        #update the weights\n",
        "        optimizer.step()\n",
        "\n",
        "        #calculate train loss without optimizing model weights\n",
        "        output_test = model(X_test)\n",
        "        loss_test = criterion(output_test,y_test)\n",
        "\n",
        "        train_losses[epoch] = loss_train.item()\n",
        "        test_losses[epoch] = loss_test.item()\n",
        "        correct_test = (output_test.argmax(1) == y_test).type(torch.float).sum().item()\n",
        "            \n",
        "        \n",
        "        if (epoch + 1) % 50 == 0:\n",
        "            print(f\" Epoch {epoch+1}/{num_epochs}, Train Loss: {loss_train.item():.4f}, Test Loss: {loss_test.item():.4f}\")\n",
        "            correct_test /= len(X_test)\n",
        "            print(f\"Accuracy: {(100*correct_test):>0.1f}% \\n\")\n",
        "        \n",
        "        #save the best model weights if the train loss has decresed\n",
        "        if train_losses[epoch] < loss_train_old :\n",
        "          torch.save(model.state_dict(), path_weigths)\n",
        "          loss_train_old = train_losses[epoch]\n",
        "          print(\"saved \",end=\" \")\n",
        "\n",
        "    if schedule == 1 :\n",
        "      #decreseng learning rate      \n",
        "      scheduler.step()      \n",
        "\n",
        "\n",
        "    print(f\"Weights data have been saved in {(path_weigths)} \\n\")"
      ],
      "metadata": {
        "id": "lG8u8PdOA8Ri"
      },
      "execution_count": 446,
      "outputs": []
    },
    {
      "cell_type": "code",
      "source": [
        "def print_the_model(model):\n",
        "  #print the model\n",
        "  print(model)\n",
        "  params = list(model.parameters())\n",
        "  print(\"Number of learnable parameters' sets: \" , len(params))\n",
        "  for i in params:\n",
        "    print(i.size()) \n",
        "\n",
        "model_selc = 2 ; #0:Sigmoid30 1:Relu30 2:MyNN\n",
        "model = models[model_selc] ;\n",
        "\n",
        "print_the_model(model)"
      ],
      "metadata": {
        "colab": {
          "base_uri": "https://localhost:8080/"
        },
        "id": "jMxA8ECdetWq",
        "outputId": "c654438a-816a-4fcf-c848-2c815045b3c3"
      },
      "execution_count": 447,
      "outputs": [
        {
          "output_type": "stream",
          "name": "stdout",
          "text": [
            "My_NN_Relu(\n",
            "  (linear_stack): Sequential(\n",
            "    (0): Linear(in_features=4, out_features=20, bias=True)\n",
            "    (1): ReLU()\n",
            "    (2): Linear(in_features=20, out_features=10, bias=True)\n",
            "    (3): ReLU()\n",
            "    (4): Linear(in_features=10, out_features=3, bias=True)\n",
            "  )\n",
            "  (dropout): Dropout(p=0.1, inplace=False)\n",
            ")\n",
            "Number of learnable parameters' sets:  6\n",
            "torch.Size([20, 4])\n",
            "torch.Size([20])\n",
            "torch.Size([10, 20])\n",
            "torch.Size([10])\n",
            "torch.Size([3, 10])\n",
            "torch.Size([3])\n"
          ]
        }
      ]
    },
    {
      "cell_type": "code",
      "source": [
        "#number o iterations\n",
        "num_epochs = 1000\n",
        "train_losses = np.zeros(num_epochs)\n",
        "test_losses  = np.zeros(num_epochs)\n",
        "\n",
        "# Initialize the loss function\n",
        "loss_fn = nn.CrossEntropyLoss()\n",
        "\n",
        "schedule_en = 1 #true=1 false=0\n",
        "if schedule_en==1:\n",
        "  #step each time\n",
        "  learning_rate = 0.01\n",
        "else:\n",
        "  learning_rate = 0.001\n",
        "\n",
        "optimizer_SGD = torch.optim.SGD(model.parameters(), lr=learning_rate,momentum=0.9)\n",
        "optimizer_Adam = torch.optim.Adam(model.parameters(),lr=learning_rate)\n",
        "optimizer_Adam_2 = torch.optim.Adam(model.parameters(),lr=learning_rate, weight_decay=0.05)\n",
        "optimizers = [ optimizer_SGD , optimizer_Adam , optimizer_Adam_2 ]\n",
        "\n",
        "path_weigths = [\"best_weights_SGD.pth\" , \"best_weights_Adam.pth\" , \"best_weights_Adam_2.pth\" ]\n",
        "\n",
        "i = 2  # 0,1,2\n",
        "PATH = path_weigths[i]\n",
        "optimizer = optimizers[i]\n",
        "\n",
        "#Decays the learning rate of each parameter group by gamma every epoch.\n",
        "scheduler = torch.optim.lr_scheduler.ExponentialLR(optimizer, gamma=0.9)\n",
        "\n",
        "# start training \n",
        "train_loop(model,optimizer,PATH,loss_fn,schedule_en,X_train,y_train,X_test,y_test,num_epochs,train_losses,test_losses)\n",
        "\n",
        "plt.figure(figsize=(10,10))\n",
        "plt.plot(train_losses, label='train loss')\n",
        "plt.plot(test_losses, label='test loss')\n",
        "plt.legend()\n",
        "plt.show()"
      ],
      "metadata": {
        "colab": {
          "base_uri": "https://localhost:8080/",
          "height": 1000
        },
        "id": "cGJIoqm4BnUH",
        "outputId": "16767013-e731-4199-c166-535115dba4de"
      },
      "execution_count": 448,
      "outputs": [
        {
          "output_type": "stream",
          "name": "stdout",
          "text": [
            "saved  saved  saved  saved  saved  saved  saved  saved  saved  saved  saved  saved  saved  saved  saved  saved  saved  saved  saved  saved  saved  saved  saved  saved  saved  saved  saved  saved  saved  saved  saved  saved  saved  saved  saved  saved  saved  saved   Epoch 50/1000, Train Loss: 0.2321, Test Loss: 0.2790\n",
            "Accuracy: 90.0% \n",
            "\n",
            "saved  saved  saved  saved  saved  saved  saved  saved  saved  saved   Epoch 100/1000, Train Loss: 0.1911, Test Loss: 0.2172\n",
            "Accuracy: 96.7% \n",
            "\n",
            " Epoch 150/1000, Train Loss: 0.1841, Test Loss: 0.2242\n",
            "Accuracy: 96.7% \n",
            "\n",
            "saved   Epoch 200/1000, Train Loss: 0.2102, Test Loss: 0.2070\n",
            "Accuracy: 96.7% \n",
            "\n",
            " Epoch 250/1000, Train Loss: 0.1987, Test Loss: 0.2211\n",
            "Accuracy: 96.7% \n",
            "\n",
            " Epoch 300/1000, Train Loss: 0.2035, Test Loss: 0.2063\n",
            "Accuracy: 96.7% \n",
            "\n",
            " Epoch 350/1000, Train Loss: 0.2003, Test Loss: 0.1945\n",
            "Accuracy: 96.7% \n",
            "\n",
            " Epoch 400/1000, Train Loss: 0.2175, Test Loss: 0.2196\n",
            "Accuracy: 96.7% \n",
            "\n",
            " Epoch 450/1000, Train Loss: 0.2235, Test Loss: 0.2853\n",
            "Accuracy: 86.7% \n",
            "\n",
            " Epoch 500/1000, Train Loss: 0.2078, Test Loss: 0.2355\n",
            "Accuracy: 96.7% \n",
            "\n",
            " Epoch 550/1000, Train Loss: 0.2108, Test Loss: 0.2186\n",
            "Accuracy: 96.7% \n",
            "\n",
            " Epoch 600/1000, Train Loss: 0.2228, Test Loss: 0.2510\n",
            "Accuracy: 90.0% \n",
            "\n",
            " Epoch 650/1000, Train Loss: 0.2058, Test Loss: 0.2568\n",
            "Accuracy: 93.3% \n",
            "\n",
            " Epoch 700/1000, Train Loss: 0.2020, Test Loss: 0.2369\n",
            "Accuracy: 96.7% \n",
            "\n",
            " Epoch 750/1000, Train Loss: 0.2000, Test Loss: 0.1816\n",
            "Accuracy: 96.7% \n",
            "\n",
            "saved   Epoch 800/1000, Train Loss: 0.1919, Test Loss: 0.2360\n",
            "Accuracy: 93.3% \n",
            "\n",
            " Epoch 850/1000, Train Loss: 0.2021, Test Loss: 0.2230\n",
            "Accuracy: 93.3% \n",
            "\n",
            " Epoch 900/1000, Train Loss: 0.1818, Test Loss: 0.2035\n",
            "Accuracy: 96.7% \n",
            "\n",
            " Epoch 950/1000, Train Loss: 0.1885, Test Loss: 0.2425\n",
            "Accuracy: 93.3% \n",
            "\n",
            " Epoch 1000/1000, Train Loss: 0.2141, Test Loss: 0.2840\n",
            "Accuracy: 93.3% \n",
            "\n",
            "Weights data have been saved in best_weights_Adam_2.pth \n",
            "\n"
          ]
        },
        {
          "output_type": "display_data",
          "data": {
            "text/plain": [
              "<Figure size 720x720 with 1 Axes>"
            ],
            "image/png": "[encoded data removed]"
          },
          "metadata": {
            "needs_background": "light"
          }
        }
      ]
    },
    {
      "cell_type": "code",
      "source": [
        "print(f\"load weights from {(PATH)}\\n\")\n",
        "print_the_model(model)\n",
        "#model.load_state_dict(torch.load(PATH))"
      ],
      "metadata": {
        "colab": {
          "base_uri": "https://localhost:8080/"
        },
        "id": "v-C-o30myny3",
        "outputId": "c54e329a-0a9d-444b-f103-084578a3bae2"
      },
      "execution_count": 449,
      "outputs": [
        {
          "output_type": "stream",
          "name": "stdout",
          "text": [
            "load weights from best_weights_Adam_2.pth\n",
            "\n",
            "My_NN_Relu(\n",
            "  (linear_stack): Sequential(\n",
            "    (0): Linear(in_features=4, out_features=20, bias=True)\n",
            "    (1): ReLU()\n",
            "    (2): Linear(in_features=20, out_features=10, bias=True)\n",
            "    (3): ReLU()\n",
            "    (4): Linear(in_features=10, out_features=3, bias=True)\n",
            "  )\n",
            "  (dropout): Dropout(p=0.1, inplace=False)\n",
            ")\n",
            "Number of learnable parameters' sets:  6\n",
            "torch.Size([20, 4])\n",
            "torch.Size([20])\n",
            "torch.Size([10, 20])\n",
            "torch.Size([10])\n",
            "torch.Size([3, 10])\n",
            "torch.Size([3])\n"
          ]
        }
      ]
    },
    {
      "cell_type": "markdown",
      "source": [
        "Confusion map for train"
      ],
      "metadata": {
        "id": "4x_UJjNY5i5h"
      }
    },
    {
      "cell_type": "code",
      "source": [
        "output_train = model(X_train)\n",
        "\n",
        "from sklearn import metrics\n",
        "\n",
        "print(\"Precision, Recall, Confusion matrix, in training\\n\")\n",
        "\n",
        "# Precision Recall scores\n",
        "print(metrics.classification_report(y_train, output_train.argmax(1) , digits=3))\n",
        "\n",
        "# Confusion matrix\n",
        "print(metrics.confusion_matrix(y_train, output_train.argmax(1) ))"
      ],
      "metadata": {
        "colab": {
          "base_uri": "https://localhost:8080/"
        },
        "id": "tTvo8mIv3yBU",
        "outputId": "3a9f7230-2a6e-4b74-9e84-2feba4cce2b3"
      },
      "execution_count": 450,
      "outputs": [
        {
          "output_type": "stream",
          "name": "stdout",
          "text": [
            "Precision, Recall, Confusion matrix, in training\n",
            "\n",
            "              precision    recall  f1-score   support\n",
            "\n",
            "           0      0.952     1.000     0.976        40\n",
            "           1      0.974     0.925     0.949        40\n",
            "           2      0.950     0.950     0.950        40\n",
            "\n",
            "    accuracy                          0.958       120\n",
            "   macro avg      0.959     0.958     0.958       120\n",
            "weighted avg      0.959     0.958     0.958       120\n",
            "\n",
            "[[40  0  0]\n",
            " [ 1 37  2]\n",
            " [ 1  1 38]]\n"
          ]
        }
      ]
    },
    {
      "cell_type": "markdown",
      "source": [
        "Confusion map for test"
      ],
      "metadata": {
        "id": "wbrQko585tgL"
      }
    },
    {
      "cell_type": "code",
      "source": [
        "output_test = model(X_test)\n",
        "\n",
        "from sklearn import metrics\n",
        "\n",
        "print(\"Precision, Recall, Confusion matrix, in testing\\n\")\n",
        "\n",
        "# Precision Recall scores\n",
        "print(metrics.classification_report(y_test, output_test.argmax(1) , digits=3))\n",
        "\n",
        "# Confusion matrix\n",
        "print(metrics.confusion_matrix(y_test, output_test.argmax(1) ))"
      ],
      "metadata": {
        "colab": {
          "base_uri": "https://localhost:8080/"
        },
        "id": "FsG0WGjC5yR5",
        "outputId": "7b66fb3d-aa2d-46d3-bd80-b24d8242732a"
      },
      "execution_count": 451,
      "outputs": [
        {
          "output_type": "stream",
          "name": "stdout",
          "text": [
            "Precision, Recall, Confusion matrix, in testing\n",
            "\n",
            "              precision    recall  f1-score   support\n",
            "\n",
            "           0      1.000     1.000     1.000        10\n",
            "           1      0.900     0.900     0.900        10\n",
            "           2      0.900     0.900     0.900        10\n",
            "\n",
            "    accuracy                          0.933        30\n",
            "   macro avg      0.933     0.933     0.933        30\n",
            "weighted avg      0.933     0.933     0.933        30\n",
            "\n",
            "[[10  0  0]\n",
            " [ 0  9  1]\n",
            " [ 0  1  9]]\n"
          ]
        }
      ]
    }
  ]
}